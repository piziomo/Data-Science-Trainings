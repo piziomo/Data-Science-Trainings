{
  "cells": [
    {
      "cell_type": "markdown",
      "metadata": {
        "id": "view-in-github",
        "colab_type": "text"
      },
      "source": [
        "<a href=\"https://colab.research.google.com/github/piziomo/Data-Science-Trainings/blob/main/IM939_Lab_5_3.ipynb\" target=\"_parent\"><img src=\"https://colab.research.google.com/assets/colab-badge.svg\" alt=\"Open In Colab\"/></a>"
      ]
    },
    {
      "cell_type": "markdown",
      "metadata": {
        "id": "MYM2dRc4NIrR"
      },
      "source": [
        "# Lab: Cross validation\n",
        "\n",
        "Details of the crime dataset are [here](https://archive.ics.uci.edu/ml/datasets/Communities+and+Crime).\n",
        "\n",
        "We are going to examine the data, fit and then cross-validate a regression model."
      ]
    },
    {
      "cell_type": "code",
      "execution_count": null,
      "metadata": {
        "id": "TFYzBmrKNIrV"
      },
      "outputs": [],
      "source": [
        "import pandas as pd\n",
        "df = pd.read_csv('data/censusCrimeClean.csv')\n",
        "df.head()"
      ]
    },
    {
      "cell_type": "markdown",
      "metadata": {
        "id": "MRYfB5LxNIrX"
      },
      "source": [
        "One hundred features. Too many for us to visualise at once.\n",
        "\n",
        "Instead, we can pick out particular variables and carry out a linear regression. To make our work simple we will look at ViolentCrimesPerPop as our dependent variable and medIncome as our indpendent variable.\n",
        "\n",
        "We may wonder if there is more violent crime in low income areas.\n",
        "\n",
        "Let us create a new dataframe containing our regression variables. We do not have to do this I find it makes our work clearer."
      ]
    },
    {
      "cell_type": "code",
      "execution_count": null,
      "metadata": {
        "id": "_IUoQgauNIrY"
      },
      "outputs": [],
      "source": [
        "df_reg = df[['communityname', 'medIncome', 'ViolentCrimesPerPop']]\n",
        "df_reg"
      ]
    },
    {
      "cell_type": "markdown",
      "metadata": {
        "id": "y1k_8OmTNIrY"
      },
      "source": [
        "Plot our data (a nice page on plotting regressions with seaborn is [here](http://seaborn.pydata.org/tutorial/regression.html#:~:text=Two%20main%20functions%20in%20seaborn%20are%20used%20to,quickly%20choose%20the%20correct%20tool%20for%20particular%20job.))."
      ]
    },
    {
      "cell_type": "code",
      "execution_count": null,
      "metadata": {
        "id": "qiE1sDClNIrZ"
      },
      "outputs": [],
      "source": [
        "import seaborn as sns\n",
        "sns.jointplot(data = df[['medIncome', 'ViolentCrimesPerPop']],\n",
        "              x = 'ViolentCrimesPerPop',\n",
        "              y = 'medIncome', kind='reg',\n",
        "              marker = '.')"
      ]
    },
    {
      "cell_type": "markdown",
      "metadata": {
        "id": "JbjDGh1KNIrZ"
      },
      "source": [
        "We may want to z-transform or log these scores as they are heavily skewed."
      ]
    },
    {
      "cell_type": "code",
      "execution_count": null,
      "metadata": {
        "id": "MOUB--xxNIra"
      },
      "outputs": [],
      "source": [
        "import numpy as np\n",
        "\n",
        "# some values are 0 so 0.1 is added to prevent log giving us infinity\n",
        "# there may be a better way to do this!\n",
        "df_reg.loc[:, 'ViolentCrimesPerPop_log'] = np.log(df_reg['ViolentCrimesPerPop'] + 0.1)\n",
        "df_reg.loc[:,'medIncome_log'] = np.log(df_reg['medIncome'] + 0.1)"
      ]
    },
    {
      "cell_type": "code",
      "execution_count": null,
      "metadata": {
        "id": "5YdyA6jJNIra"
      },
      "outputs": [],
      "source": [
        "df_reg"
      ]
    },
    {
      "cell_type": "code",
      "execution_count": null,
      "metadata": {
        "id": "fDkVHa6PNIrb"
      },
      "outputs": [],
      "source": [
        "import seaborn as sns\n",
        "sns.jointplot(data = df_reg[['medIncome_log', 'ViolentCrimesPerPop_log']],\n",
        "              x = 'ViolentCrimesPerPop_log',\n",
        "              y = 'medIncome_log', kind='reg',\n",
        "              marker = '.')"
      ]
    },
    {
      "cell_type": "markdown",
      "metadata": {
        "id": "h9eeKAlkNIrb"
      },
      "source": [
        "Is log transforming our variables the right thing to do here?\n",
        "\n",
        "Fit our regression to the log transformed data."
      ]
    },
    {
      "cell_type": "code",
      "execution_count": null,
      "metadata": {
        "id": "DXBQVaNnNIrc"
      },
      "outputs": [],
      "source": [
        "import matplotlib.pyplot as plt\n",
        "from sklearn.linear_model import LinearRegression\n",
        "from sklearn import metrics\n",
        "\n",
        "x = df_reg[['ViolentCrimesPerPop_log']]\n",
        "y = df_reg[['medIncome_log']]\n",
        "\n",
        "model = LinearRegression()\n",
        "model.fit(x, y)\n",
        "\n",
        "y_hat = model.predict(x)\n",
        "plt.plot(x, y,'o', alpha = 0.5)\n",
        "plt.plot(x, y_hat, 'r', alpha = 0.5)\n",
        "\n",
        "plt.xlabel('Violent Crimes Per Population')\n",
        "plt.ylabel('Median Income')\n",
        "\n",
        "print (\"MSE:\", metrics.mean_squared_error(y_hat, y))\n",
        "print (\"R^2:\", metrics.r2_score(y, y_hat))\n",
        "print (\"var:\", y.var())"
      ]
    },
    {
      "cell_type": "markdown",
      "metadata": {
        "id": "prB7VtJTNIrc"
      },
      "source": [
        "Has our log transformation distorted the pattern in the data?"
      ]
    },
    {
      "cell_type": "code",
      "execution_count": null,
      "metadata": {
        "id": "rcVozmPeNIrc"
      },
      "outputs": [],
      "source": [
        "x = df_reg[['ViolentCrimesPerPop']]\n",
        "y = df_reg[['medIncome']]\n",
        "\n",
        "model = LinearRegression()\n",
        "model.fit(x, y)\n",
        "\n",
        "y_hat = model.predict(x)\n",
        "plt.plot(x, y,'o', alpha = 0.5)\n",
        "plt.plot(x, y_hat, 'r', alpha = 0.5)\n",
        "\n",
        "plt.xlabel('Violent Crimes Per Population')\n",
        "plt.ylabel('Median Income')\n",
        "\n",
        "print (\"MSE:\", metrics.mean_squared_error(y_hat, y))\n",
        "print (\"R^2:\", metrics.r2_score(y, y_hat))\n",
        "print (\"var:\", y.var())"
      ]
    },
    {
      "cell_type": "markdown",
      "metadata": {
        "id": "BFgxHbLyNIrd"
      },
      "source": [
        "What is the relationship between violent crime and median income? Why might this be?\n",
        "\n",
        "Assuming the log data is fine, have we overfit the model? Remember that a good model (which accurately models the relationship between violent crimes per population) need to be robust when faced with new data.\n",
        "\n",
        "Kfold cross validation splits data into train and test subsets. We can then fit the regression to the training set and see how well it does for the test set."
      ]
    },
    {
      "cell_type": "code",
      "execution_count": null,
      "metadata": {
        "id": "dN7TnzRNNIrd"
      },
      "outputs": [],
      "source": [
        "from sklearn.model_selection import KFold\n",
        "\n",
        "X = df_reg[['ViolentCrimesPerPop']]\n",
        "y = df_reg[['medIncome']]\n",
        "\n",
        "# get four splits, Each split contains a\n",
        "# test series and a train series.\n",
        "kf = KFold(n_splits=4)"
      ]
    },
    {
      "cell_type": "code",
      "execution_count": null,
      "metadata": {
        "id": "WUQpK-siNIrd"
      },
      "outputs": [],
      "source": [
        "# lists to store our statistics\n",
        "r_vals = []\n",
        "MSEs = []\n",
        "medIncome_coef = []\n",
        "\n",
        "for train_index, test_index in kf.split(X):\n",
        "    # fit our model and extract statistics\n",
        "    model = LinearRegression()\n",
        "    model.fit(X.iloc[train_index], y.iloc[train_index])\n",
        "    y_hat = model.predict(X.iloc[test_index])\n",
        "\n",
        "    MSEs.append(metrics.mean_squared_error(y.iloc[test_index], y_hat))\n",
        "    medIncome_coef.append(model.coef_[0][0])\n",
        "    r_vals.append(metrics.r2_score(y.iloc[test_index], y_hat))"
      ]
    },
    {
      "cell_type": "code",
      "execution_count": null,
      "metadata": {
        "id": "JR4qNS_RNIre"
      },
      "outputs": [],
      "source": [
        "data = {'MSE' : MSEs, 'medIncome coefficient' : medIncome_coef, 'r squared' : r_vals}\n",
        "pd.DataFrame(data)"
      ]
    },
    {
      "cell_type": "markdown",
      "metadata": {
        "id": "OoK3Lpc8NIre"
      },
      "source": [
        "Does our model produce similiar coefficients with subsets of the data?"
      ]
    },
    {
      "cell_type": "markdown",
      "metadata": {
        "id": "oofZGZPgNIre"
      },
      "source": [
        "We can do this using an inbuild sklearn function (see [here](https://scikit-learn.org/stable/modules/generated/sklearn.model_selection.cross_val_score.html))."
      ]
    },
    {
      "cell_type": "code",
      "execution_count": null,
      "metadata": {
        "id": "SV1NnTsANIre"
      },
      "outputs": [],
      "source": [
        "from sklearn.model_selection import cross_val_score\n",
        "x = df_reg[['ViolentCrimesPerPop']]\n",
        "y = df_reg[['medIncome']]\n",
        "\n",
        "model = LinearRegression()\n",
        "model.fit(x, y)\n",
        "\n",
        "print(cross_val_score(model, x, y, cv=4))"
      ]
    },
    {
      "cell_type": "markdown",
      "metadata": {
        "id": "-VngYkMFNIre"
      },
      "source": [
        "What do these values tell us about our model and data?\n",
        "\n",
        "You might want to carry out [multiple regression](https://heartbeat.fritz.ai/implementing-multiple-linear-regression-using-sklearn-43b3d3f2fe8b) with more than one predictor variable, or reduce the number of dimensions, or perhaps address different questions using a clustering algorithm instead with all or a subset of features."
      ]
    }
  ],
  "metadata": {
    "kernelspec": {
      "display_name": "Python 3 (ipykernel)",
      "language": "python",
      "name": "python3"
    },
    "language_info": {
      "codemirror_mode": {
        "name": "ipython",
        "version": 3
      },
      "file_extension": ".py",
      "mimetype": "text/x-python",
      "name": "python",
      "nbconvert_exporter": "python",
      "pygments_lexer": "ipython3",
      "version": "3.12.4"
    },
    "colab": {
      "provenance": [],
      "include_colab_link": true
    }
  },
  "nbformat": 4,
  "nbformat_minor": 0
}