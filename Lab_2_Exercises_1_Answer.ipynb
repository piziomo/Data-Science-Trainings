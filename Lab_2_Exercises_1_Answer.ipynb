{
  "cells": [
    {
      "cell_type": "markdown",
      "metadata": {
        "id": "view-in-github",
        "colab_type": "text"
      },
      "source": [
        "<a href=\"https://colab.research.google.com/github/piziomo/Data-Science-Trainings/blob/main/Lab_2_Exercises_1_Answer.ipynb\" target=\"_parent\"><img src=\"https://colab.research.google.com/assets/colab-badge.svg\" alt=\"Open In Colab\"/></a>"
      ]
    },
    {
      "cell_type": "markdown",
      "metadata": {
        "id": "N8htotMwGdnB"
      },
      "source": [
        "# Lab 2 - Exercise 1 - Answers\n",
        "\n",
        "Here we load in a subset of World Indicators data collected by the worldbank([link to dataset](https://datacatalog.worldbank.org/dataset/world-development-indicators)). The notebook containing the code used to subset the data is in the 'Wrangling World Indicators' notebook file available on Moodle.\n",
        "\n",
        "The dataset contains data from the UK, France, Germany and Italy. The variables we look at are:\n",
        "\n",
        "* GDP per capita (current US Dollars)\n",
        "* Imports of goods and services (current US Dollars)\n",
        "* Land area (sq. km)\n",
        "* Life expectancy at birth, total (years)\n",
        "* Population in largest city\n",
        "* Population growth (annual %)\n",
        "* Population, total\n",
        "* Primary education, duration (years)\n",
        "* Progression to secondary school (%)\n",
        "* Rural population (% of total population)\n",
        "\n",
        "and the data, though incomplete, starts from 1960 till 2004."
      ]
    },
    {
      "cell_type": "markdown",
      "metadata": {
        "id": "CgaDwf8VGdnI"
      },
      "source": [
        "Load in pandas and the dataset."
      ]
    },
    {
      "cell_type": "code",
      "execution_count": null,
      "metadata": {
        "id": "RLfzTJRTGdnK"
      },
      "outputs": [],
      "source": [
        "import pandas as pd\n",
        "df = pd.read_csv('data/world_indicators_pandas.csv', encoding='UTF-8')"
      ]
    },
    {
      "cell_type": "markdown",
      "metadata": {
        "id": "5Nv96qE5GdnL"
      },
      "source": [
        "How does the data look?"
      ]
    },
    {
      "cell_type": "code",
      "execution_count": null,
      "metadata": {
        "id": "hgCp3k7vGdnM"
      },
      "outputs": [],
      "source": [
        "df.info()"
      ]
    },
    {
      "cell_type": "markdown",
      "metadata": {
        "id": "Vztuox3gGdnN"
      },
      "source": [
        "Change year to datetime instead of an integer."
      ]
    },
    {
      "cell_type": "code",
      "execution_count": null,
      "metadata": {
        "id": "kSKWU6aAGdnN"
      },
      "outputs": [],
      "source": [
        "df['year'] =  pd.to_datetime(df['year'], format='%Y')\n",
        "df.dtypes"
      ]
    },
    {
      "cell_type": "markdown",
      "metadata": {
        "id": "Yl_Li4WtGdnO"
      },
      "source": [
        "It looks like we have some missing data."
      ]
    },
    {
      "cell_type": "code",
      "execution_count": null,
      "metadata": {
        "id": "1BBMKpNVGdnP"
      },
      "outputs": [],
      "source": [
        "df.shape[0] - df.count()"
      ]
    },
    {
      "cell_type": "markdown",
      "metadata": {
        "id": "rCKrC8bQGdnP"
      },
      "source": [
        "What do the top 5 rows look like?"
      ]
    },
    {
      "cell_type": "code",
      "execution_count": null,
      "metadata": {
        "id": "AoapmEFsGdnQ"
      },
      "outputs": [],
      "source": [
        "df.head()"
      ]
    },
    {
      "cell_type": "markdown",
      "metadata": {
        "id": "TJ0nYqYRGdnQ"
      },
      "source": [
        "We can look at the top 2 if we like."
      ]
    },
    {
      "cell_type": "code",
      "execution_count": null,
      "metadata": {
        "id": "clr-fagbGdnR"
      },
      "outputs": [],
      "source": [
        "df.iloc[0:2,:]"
      ]
    },
    {
      "cell_type": "markdown",
      "metadata": {
        "id": "rs3h4wjqGdnR"
      },
      "source": [
        "Or all the rows for a particular variable."
      ]
    },
    {
      "cell_type": "code",
      "execution_count": null,
      "metadata": {
        "id": "yJM8voz8GdnR"
      },
      "outputs": [],
      "source": [
        "df.iloc[:,3]"
      ]
    },
    {
      "cell_type": "markdown",
      "metadata": {
        "id": "-CrHy8y-GdnS"
      },
      "source": [
        "We can pick out data for a particular country."
      ]
    },
    {
      "cell_type": "code",
      "execution_count": null,
      "metadata": {
        "id": "tVSbYCSDGdnS"
      },
      "outputs": [],
      "source": [
        "df[df.Country_Name == 'Germany']"
      ]
    },
    {
      "cell_type": "markdown",
      "metadata": {
        "id": "zXsDpKOIGdnS"
      },
      "source": [
        "Or a paticular country and variable."
      ]
    },
    {
      "cell_type": "code",
      "execution_count": null,
      "metadata": {
        "id": "BQZ2jeA6GdnS"
      },
      "outputs": [],
      "source": [
        "df[df.Country_Name == 'Germany']['Land_area_(sq._km)']"
      ]
    },
    {
      "cell_type": "code",
      "execution_count": null,
      "metadata": {
        "id": "4o3vrNd6GdnT"
      },
      "outputs": [],
      "source": [
        "df[df.Country_Name == 'France']['Land_area_(sq._km)']"
      ]
    },
    {
      "cell_type": "markdown",
      "metadata": {
        "id": "YGWyt5YaGdnT"
      },
      "source": [
        "The first land area value is NaN. We could fill the first value with the lowest for that country.\n",
        "\n",
        "Below, we use the . notation to grab a column and this can be more convenient and we use df.loc (see the [pandas documentation](https://pandas.pydata.org/pandas-docs/stable/reference/api/pandas.DataFrame.loc.html). For each country we set all the values of Land Area to the lowest for that country. That overwrites the NaN with the correct value."
      ]
    },
    {
      "cell_type": "code",
      "execution_count": null,
      "metadata": {
        "id": "j_7it2gQGdnT"
      },
      "outputs": [],
      "source": [
        "for country in df.Country_Name.unique():\n",
        "        df.loc[df.Country_Name == country, 'Land_area_(sq._km)'] = df.loc[df.Country_Name == country, 'Land_area_(sq._km)'].min()\n"
      ]
    },
    {
      "cell_type": "markdown",
      "metadata": {
        "id": "LpChOd4SGdnT"
      },
      "source": [
        "We can also scale GDP and population growth between 0 and 1."
      ]
    },
    {
      "cell_type": "code",
      "execution_count": null,
      "metadata": {
        "id": "7arM4TxpGdnT"
      },
      "outputs": [],
      "source": [
        "df['GDP_scaled'] = (df['GDP_per_capita_(current_US$)'] - df['GDP_per_capita_(current_US$)'].min()) / (df['GDP_per_capita_(current_US$)'].max() - df['GDP_per_capita_(current_US$)'].min())\n",
        "df['pop_scaled'] = (df['Population,_total'] - df['Population,_total'].min()) / (df['Population,_total'].max() - df['Population,_total'].min())"
      ]
    },
    {
      "cell_type": "markdown",
      "metadata": {
        "id": "U5fTnruBGdnU"
      },
      "source": [
        "Make sure it looks ok."
      ]
    },
    {
      "cell_type": "code",
      "execution_count": null,
      "metadata": {
        "id": "v68ntM7DGdnU"
      },
      "outputs": [],
      "source": [
        "df[['Country_Name', 'GDP_scaled', 'pop_scaled']]"
      ]
    },
    {
      "cell_type": "markdown",
      "metadata": {
        "id": "ifvRPcJSGdnU"
      },
      "source": [
        "Hmm, looks good."
      ]
    },
    {
      "cell_type": "code",
      "execution_count": null,
      "metadata": {
        "id": "rARkVzdKGdnU"
      },
      "outputs": [],
      "source": [
        "df.head()"
      ]
    },
    {
      "cell_type": "markdown",
      "metadata": {
        "id": "vioZCixxGdnU"
      },
      "source": [
        "We should get an overview of our variables."
      ]
    },
    {
      "cell_type": "code",
      "execution_count": null,
      "metadata": {
        "id": "x3Dh5JZmGdnU"
      },
      "outputs": [],
      "source": [
        "df.describe()"
      ]
    },
    {
      "cell_type": "markdown",
      "metadata": {
        "id": "nOzIqBQyGdnV"
      },
      "source": [
        "A few observations:\n",
        "\n",
        "* The countries we are looking at have had 100% access to electricity. It is not useful in this subset but may be for developing countries.\n",
        "* Population growth looks interesting. It was negative for at least one year.\n",
        "* There seems to be some difference in progression to secondary school.\n",
        "\n",
        "We should describe the data for each country so we can see the differences."
      ]
    },
    {
      "cell_type": "code",
      "execution_count": null,
      "metadata": {
        "id": "a91PoGE0GdnV"
      },
      "outputs": [],
      "source": [
        "df.groupby('Country_Name').describe()"
      ]
    },
    {
      "cell_type": "markdown",
      "metadata": {
        "id": "tWn9kmCdGdnV"
      },
      "source": [
        "It is too wide. We can select specific variables."
      ]
    },
    {
      "cell_type": "code",
      "execution_count": null,
      "metadata": {
        "id": "3ZdSWVG6GdnV"
      },
      "outputs": [],
      "source": [
        "df[['Country_Name', 'Progression_to_secondary_school_(%)']].groupby('Country_Name').describe()"
      ]
    },
    {
      "cell_type": "markdown",
      "metadata": {
        "id": "1KQLdgd7GdnV"
      },
      "source": [
        "Italy is the country with a minumum of 94% whereas the UK has no data."
      ]
    },
    {
      "cell_type": "markdown",
      "metadata": {
        "id": "SjPt32f0GdnW"
      },
      "source": [
        "Narrowing in on GPD per capita."
      ]
    },
    {
      "cell_type": "code",
      "execution_count": null,
      "metadata": {
        "id": "ptl9zpBdGdnW"
      },
      "outputs": [],
      "source": [
        "df['GDP_per_capita_(current_US$)'].describe()"
      ]
    },
    {
      "cell_type": "markdown",
      "metadata": {
        "id": "vWKwfV9NGdnW"
      },
      "source": [
        "By country."
      ]
    },
    {
      "cell_type": "code",
      "execution_count": null,
      "metadata": {
        "id": "NYCfRvADGdnW"
      },
      "outputs": [],
      "source": [
        "df[['Country_Name','GDP_per_capita_(current_US$)']].groupby('Country_Name').describe()"
      ]
    },
    {
      "cell_type": "markdown",
      "metadata": {
        "id": "NFNKxIRsGdnc"
      },
      "source": [
        "Germany has the highest GDP per capita but we also have less data points. Why is this?\n",
        "\n",
        "Plotting GDP by year will give us a sense of our GDP data."
      ]
    },
    {
      "cell_type": "code",
      "execution_count": null,
      "metadata": {
        "id": "-vaOz6LLGdnd"
      },
      "outputs": [],
      "source": [
        "df.plot(x='year', y=\"GDP_per_capita_(current_US$)\")"
      ]
    },
    {
      "cell_type": "markdown",
      "metadata": {
        "id": "N4XxfMXbGdnd"
      },
      "source": [
        "Split by country."
      ]
    },
    {
      "cell_type": "code",
      "execution_count": null,
      "metadata": {
        "id": "Vohj80rMGdnd"
      },
      "outputs": [],
      "source": [
        "df.groupby('Country_Name').plot(x='year', y=\"GDP_per_capita_(current_US$)\")"
      ]
    },
    {
      "cell_type": "markdown",
      "metadata": {
        "id": "g2Ix4AFpGdnd"
      },
      "source": [
        "How about life expectancy?"
      ]
    },
    {
      "cell_type": "code",
      "execution_count": null,
      "metadata": {
        "id": "u1RzmJjvGdnd"
      },
      "outputs": [],
      "source": [
        "df.groupby('Country_Name').plot(x='year', y=\"Life_expectancy_at_birth,_total_(years)\")"
      ]
    },
    {
      "cell_type": "markdown",
      "metadata": {
        "id": "euoZNn75Gdne"
      },
      "source": [
        "Both increase over time. If we ignore year."
      ]
    },
    {
      "cell_type": "code",
      "execution_count": null,
      "metadata": {
        "id": "PwVUav7XGdne"
      },
      "outputs": [],
      "source": [
        "df.groupby('Country_Name').plot(x=\"GDP_per_capita_(current_US$)\", y=\"Life_expectancy_at_birth,_total_(years)\", kind='scatter')"
      ]
    },
    {
      "cell_type": "markdown",
      "metadata": {
        "id": "aae_c_CPGdne"
      },
      "source": [
        "We should plot our scaled variabled against one another in seaborn.\n",
        "\n",
        "First, we let us remind ourselves what our data looks like."
      ]
    },
    {
      "cell_type": "code",
      "execution_count": null,
      "metadata": {
        "id": "FnDnYUfdGdne"
      },
      "outputs": [],
      "source": [
        "df.head()"
      ]
    },
    {
      "cell_type": "markdown",
      "metadata": {
        "id": "jUddPASzGdne"
      },
      "source": [
        "Then we can melt our data."
      ]
    },
    {
      "cell_type": "code",
      "execution_count": null,
      "metadata": {
        "id": "8autTzEGGdne"
      },
      "outputs": [],
      "source": [
        "df_long=pd.melt(df, id_vars=['Country_Name', 'year'], value_vars=['GDP_scaled', 'pop_scaled'])\n",
        "df_long"
      ]
    },
    {
      "cell_type": "markdown",
      "metadata": {
        "id": "hV17Xg10Gdnf"
      },
      "source": [
        "Then we can plot each by year."
      ]
    },
    {
      "cell_type": "code",
      "execution_count": null,
      "metadata": {
        "id": "1udyBNYwGdnf"
      },
      "outputs": [],
      "source": [
        "import seaborn as sns\n",
        "sns.relplot(x='year', y='value', hue='variable', data=df_long)"
      ]
    },
    {
      "cell_type": "markdown",
      "metadata": {
        "id": "xelYB2hgGdnf"
      },
      "source": [
        "Ah, there are different countries in the data. We should include that in our plot."
      ]
    },
    {
      "cell_type": "code",
      "execution_count": null,
      "metadata": {
        "id": "d7dx49LMGdnf"
      },
      "outputs": [],
      "source": [
        "sns.relplot(x='year', y='value', style='variable', hue='Country_Name', data=df_long)"
      ]
    },
    {
      "cell_type": "markdown",
      "metadata": {
        "id": "fNyqTMxYGdnf"
      },
      "source": [
        "Do play around with these plots by changing the data variable names. Are there any interesting relationships between the different data variables?"
      ]
    },
    {
      "cell_type": "markdown",
      "metadata": {
        "id": "6y-I2y3lGdng"
      },
      "source": [
        "In Exercise 2 we look at what else seaborn can do for us."
      ]
    }
  ],
  "metadata": {
    "kernelspec": {
      "display_name": "Python 3 (ipykernel)",
      "language": "python",
      "name": "python3"
    },
    "language_info": {
      "codemirror_mode": {
        "name": "ipython",
        "version": 3
      },
      "file_extension": ".py",
      "mimetype": "text/x-python",
      "name": "python",
      "nbconvert_exporter": "python",
      "pygments_lexer": "ipython3",
      "version": "3.12.4"
    },
    "colab": {
      "provenance": [],
      "include_colab_link": true
    }
  },
  "nbformat": 4,
  "nbformat_minor": 0
}