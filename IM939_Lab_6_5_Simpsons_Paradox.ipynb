{
  "cells": [
    {
      "cell_type": "markdown",
      "metadata": {
        "id": "view-in-github",
        "colab_type": "text"
      },
      "source": [
        "<a href=\"https://colab.research.google.com/github/piziomo/Data-Science-Trainings/blob/main/IM939_Lab_6_5_Simpsons_Paradox.ipynb\" target=\"_parent\"><img src=\"https://colab.research.google.com/assets/colab-badge.svg\" alt=\"Open In Colab\"/></a>"
      ]
    },
    {
      "cell_type": "markdown",
      "metadata": {
        "id": "qf1YwLPiJ0vj"
      },
      "source": [
        "# IM939 - Lab 6 Part 5 Simpson's Paradox\n",
        "\n",
        "In the session 6 (week 7) video we discussed the Simpson's Paradox. You can explore some case studies in the **applet** by clicking [here](https://math.usu.edu/~schneit/Statlets/Simpson's%20Paradox/)\n",
        "\n",
        "Here we are going to look at the case study of **\"Expenditure data for developmentally-disabled California residents\"**. This dataset was adjusted (the original dataset you can find [here](www.StatLit.org/XLS/2014-Taylor-Mickel-Paradox-Data.xlsx)) in order to explain the Simpson's Paradox. You can read the research paper  \"Simpson’s Paradox A Data Set and Discrimination Case Study” that uses and explains this dataset [here](http://jse.amstat.org/v22n1/mickel.pdf)\n",
        "There is also a [documentation of the dataset](http://www.amstat.org/publications/jse/v22n1/mickel/paradox_documentation.docx)"
      ]
    },
    {
      "cell_type": "markdown",
      "metadata": {
        "id": "sUhEQqskJ0vq"
      },
      "source": [
        "## 1 Data\n",
        "Here are the key information from the dataset documentation file (every time I use \"\" below it is a cite from the dataset file).\n",
        "### Abstract:\n",
        "\"The State of California Department of Developmental Services (DDS) is responsible for allocating funds that support over 250,000 developmentally-disabled residents (e.g., intellectual disability, cerebral palsy, autism, etc.), called here also consumers. The dataset represents a sample of 1,000 of these consumers. Biographical characteristics and expenditure data (i.e., the dollar amount the State spends on each consumer in supporting these individuals and their families) are included in the data set for each consumer.\n",
        "\n",
        "### Source:\n",
        "The data set originates from DDS’s “Client Master File.” In order to remain in compliance with California State Legislation, the data have been altered to protect the rights and privacy of specific individual consumers.\n",
        "The data set is designed to represent a sample of 1,000 DDS consumers.\n",
        "\n",
        "### Variable Descriptions:\n",
        "A header line contains the name of the variables. There are no missing values.\n",
        "\n",
        "Id: 5-digit, unique identification code for each consumer (similar to a social security number)\n",
        "\n",
        "Age Cohort: Binned age variable represented as six age cohorts (0-5, 6-12, 13-17, 18-21, 22-50, and 51+)\n",
        "\n",
        "Age: Unbinned age variable\n",
        "\n",
        "Gender: Male or Female\n",
        "\n",
        "Expenditures: Dollar amount of annual expenditures spent on each consumer\n",
        "\n",
        "Ethnicity: Eight ethnic groups (American Indian, Asian, Black, Hispanic, Multi-race, Native Hawaiian, Other, and White non-Hispanic).\n",
        "\n",
        "### Research problem\n",
        "The data set and case study are based on a real-life scenario where there was a claim of discrimination based on ethnicity. The exercise highlights the importance of performing rigorous statistical analysis and how data interpretations can accurately inform or misguide decision makers.\" (Taylor, Mickel 2014)"
      ]
    },
    {
      "cell_type": "markdown",
      "metadata": {
        "id": "US_5Bk1ZJ0vs"
      },
      "source": [
        "## 2 Reading the dataset\n",
        "\n",
        "You should know the Pandas library already from the lab 1 with James. Here we are going to use it to explore the data and for pivot tables.\n",
        "In the folder you downloaded from the Moodle you have a dataset called 'Lab 6 - Paradox Dataset'."
      ]
    },
    {
      "cell_type": "code",
      "execution_count": null,
      "metadata": {
        "id": "3MTVo9SsJ0vt"
      },
      "outputs": [],
      "source": [
        "import pandas as pd\n",
        "df = pd.read_excel('data/Paradox_Dataset.xlsx')"
      ]
    },
    {
      "cell_type": "markdown",
      "metadata": {
        "id": "gVEZGRGwJ0vv"
      },
      "source": [
        "A reminder: anything with a pd. prefix comes from pandas. This is particulary useful for preventing a module from overwriting inbuilt Python functionality."
      ]
    },
    {
      "cell_type": "markdown",
      "metadata": {
        "id": "vMeQTcYlJ0vw"
      },
      "source": [
        "Let's have a look at our dataset"
      ]
    },
    {
      "cell_type": "code",
      "execution_count": null,
      "metadata": {
        "id": "MhmObfuQJ0vx"
      },
      "outputs": [],
      "source": [
        "df"
      ]
    },
    {
      "cell_type": "markdown",
      "metadata": {
        "id": "MwXSSTLCJ0vy"
      },
      "source": [
        "We have 6 columns (variables) in 1000 rows. Let's see what type of object is our dataset and what types of objects are in the dataset."
      ]
    },
    {
      "cell_type": "code",
      "execution_count": null,
      "metadata": {
        "id": "V5pq0RrtJ0vz"
      },
      "outputs": [],
      "source": [
        "type(df)"
      ]
    },
    {
      "cell_type": "markdown",
      "metadata": {
        "id": "yyQaihNOJ0v0"
      },
      "source": [
        "## 3 Exploring data\n",
        "### Missing values\n",
        "Let's check if we have any missing data"
      ]
    },
    {
      "cell_type": "code",
      "execution_count": null,
      "metadata": {
        "id": "X_IdfSbLJ0v0"
      },
      "outputs": [],
      "source": [
        "df.info()"
      ]
    },
    {
      "cell_type": "markdown",
      "metadata": {
        "id": "5Qt9OZYNJ0v1"
      },
      "source": [
        "The above tables shows that we have 1000 observations for each of 6 columns.\n",
        "\n",
        "Let's see if there are any unexpected values."
      ]
    },
    {
      "cell_type": "code",
      "execution_count": null,
      "metadata": {
        "id": "Y7-rqsUYJ0v1"
      },
      "outputs": [],
      "source": [
        "import numpy as np\n",
        "np.unique(df.AgeCohort)"
      ]
    },
    {
      "cell_type": "code",
      "execution_count": null,
      "metadata": {
        "id": "hZGLimXoJ0v1"
      },
      "outputs": [],
      "source": [
        "np.unique(df.Age)"
      ]
    },
    {
      "cell_type": "code",
      "execution_count": null,
      "metadata": {
        "id": "hR5aJPkdJ0v2"
      },
      "outputs": [],
      "source": [
        "np.unique(df.Gender)"
      ]
    },
    {
      "cell_type": "code",
      "execution_count": null,
      "metadata": {
        "id": "1zN9viOcJ0v2"
      },
      "outputs": [],
      "source": [
        "np.unique(df.Ethnicity)"
      ]
    },
    {
      "cell_type": "markdown",
      "metadata": {
        "id": "nIkEcd47J0v3"
      },
      "source": [
        "There aren't any unexpected values in neither of these 4 variables. We didn't run this command for Expenditures on purpose, as this would return us too many values. An easier way to check this variable would be just a boxplot."
      ]
    },
    {
      "cell_type": "code",
      "execution_count": null,
      "metadata": {
        "id": "YGHMqcsOJ0v3"
      },
      "outputs": [],
      "source": [
        "df.boxplot(column=['Age'])"
      ]
    },
    {
      "cell_type": "code",
      "execution_count": null,
      "metadata": {
        "id": "e0PEsoaIJ0v3"
      },
      "outputs": [],
      "source": [
        "df.boxplot(column=['Expenditures'])"
      ]
    },
    {
      "cell_type": "markdown",
      "metadata": {
        "id": "JXKk5w7aJ0v4"
      },
      "source": [
        "Let's see a summary of data types we have here.\n",
        "\n",
        "### Data types"
      ]
    },
    {
      "cell_type": "code",
      "execution_count": null,
      "metadata": {
        "id": "h_X5medIJ0v4"
      },
      "outputs": [],
      "source": [
        "df.dtypes"
      ]
    },
    {
      "cell_type": "markdown",
      "metadata": {
        "id": "MoUKsp7LJ0v4"
      },
      "source": [
        "We are creating a new categorical column cat_AgeCohort that would make our work a bit easier later. You can read more [here](https://pandas.pydata.org/pandas-docs/version/0.23.4/generated/pandas.Categorical.html)"
      ]
    },
    {
      "cell_type": "code",
      "execution_count": null,
      "metadata": {
        "id": "kxdrmX8BJ0v5"
      },
      "outputs": [],
      "source": [
        "df['cat_AgeCohort'] = pd.Categorical(df['AgeCohort'],\n",
        "                                     ordered=True,\n",
        "                                     categories=['0-5', '6-12', '13-17', '18-21', '22-50', '51 +'])"
      ]
    },
    {
      "cell_type": "markdown",
      "metadata": {
        "id": "G_l9eUDxJ0v5"
      },
      "source": [
        "Here int64 mean 'a 64-bit integer' and 'object' are strings. This gives you also a hint they are different types of variables. The 'bit' refers to how long and precise the number is. Pandas uses data types from numpy ([pandas documentation](https://pandas.pydata.org/pandas-docs/stable/user_guide/basics.html#basics-dtypes), [numpy documentation](https://numpy.org/doc/stable/user/basics.types.html?highlight=array%20interface)).\n",
        "In our dataset three variables are numeric: Id, age are ordinal variables, Expenditures is a scale variable. AgeCohort is categorical and Gender and Ethnicity are nominal.  \n",
        "For that reason 'data.describe' will bring us a summary of numeric variables only."
      ]
    },
    {
      "cell_type": "code",
      "execution_count": null,
      "metadata": {
        "id": "L-ywyanSJ0v5"
      },
      "outputs": [],
      "source": [
        "df.describe()"
      ]
    },
    {
      "cell_type": "markdown",
      "metadata": {
        "id": "sBJpDo88J0v5"
      },
      "source": [
        "It doesn't make sense to plot not numeric variables or ids. That's why we are going to just plot age and expenditures."
      ]
    },
    {
      "cell_type": "code",
      "execution_count": null,
      "metadata": {
        "id": "L5TGtyAPJ0v6"
      },
      "outputs": [],
      "source": [
        "df.plot(x = 'Age', y = 'Expenditures', kind='scatter')"
      ]
    },
    {
      "cell_type": "markdown",
      "metadata": {
        "id": "4-sf6D4kJ0v6"
      },
      "source": [
        "The pattern of data is very interesting, expecially around x-values of ca. 25. The research paper can bring us more clarification.\n",
        "\n",
        "### Age\n",
        "The crucial factor in this case study is age: \"As consumers get older, their financial needs increase as they move out of their parent’s home, etc. Therefore, it is expected that expenditures for older consumers will be higher than for the younger consumers\"\n",
        "\n",
        "In the dataset we have two age variables that both refer to the same information - age of consumers. They are saved as two distinct data types: binned 'AgeCohort' and unbinned 'Age'.\n",
        "\n",
        "**Age categories** If you look at the binned one you will notice that the categories are somewhat interesting:"
      ]
    },
    {
      "cell_type": "code",
      "execution_count": null,
      "metadata": {
        "id": "rgArB3VgJ0v6"
      },
      "outputs": [],
      "source": [
        "df[['Age']].plot(kind='hist', ec='black')"
      ]
    },
    {
      "cell_type": "code",
      "execution_count": null,
      "metadata": {
        "id": "-_ppX_hFJ0v7"
      },
      "outputs": [],
      "source": [
        "df[\"AgeCohort\"].describe() #we will receive the output for the categorical variable \"AgeCohort\"\n",
        "df['cat_AgeCohort'].describe()"
      ]
    },
    {
      "cell_type": "markdown",
      "metadata": {
        "id": "LaLmMpWDJ0v7"
      },
      "source": [
        "Here we will run a bar plot of age categories."
      ]
    },
    {
      "cell_type": "code",
      "execution_count": null,
      "metadata": {
        "id": "Iy1xlqsmJ0v7"
      },
      "outputs": [],
      "source": [
        "df['cat_AgeCohort'].value_counts().plot(kind=\"bar\")"
      ]
    },
    {
      "cell_type": "markdown",
      "metadata": {
        "id": "a1TsNmnDJ0v8"
      },
      "source": [
        "The default order of plot elements is 'value count'. For the age variable it might be more useful to look at the order chronologically."
      ]
    },
    {
      "cell_type": "code",
      "execution_count": null,
      "metadata": {
        "id": "UFKf4mbFJ0v8"
      },
      "outputs": [],
      "source": [
        "#using sns.countplot from seaborn we will plot AgeCohort\n",
        "#the order in plotting this variable is really crucial, we want to have sorted by age categories\n",
        "import seaborn as sns\n",
        "import matplotlib.pyplot as plt\n",
        "\n",
        "#here is without sorting / ordering\n",
        "#sns.countplot(x=\"AgeCohort\", data=df)\n",
        "\n",
        "#here we plot the variable with sorting\n",
        "sns.countplot(x=\"cat_AgeCohort\", data=df)\n",
        "\n",
        "#You can try playing with the commands below too:\n",
        "#sns.countplot(x=\"AgeCohort\", data=df, order=df['AgeCohort'].value_counts().index)\n",
        "#sns.countplot(x=\"AgeCohort\", data=df, order=['0-5', '6-12', '13-17', '18-21', '22-50','51+'])"
      ]
    },
    {
      "cell_type": "markdown",
      "metadata": {
        "id": "Nijk-Ed-J0v9"
      },
      "source": [
        "Why would the data be binned in such \"uneven\" categories like '0-5 years', '6-12' and '22-50'? Instead of even categories e.g. '0-10', '11-20', '21-30' etc. or every 5 years '0-5', '6-10' etc.?\n",
        "\n",
        "Here the age cohorts **were allocated based on the theory**, rather than based on data (this way we would have even number of people in each category) or based on logical age categories, e.g. every 5 or 10 years.\n",
        "\n",
        "The authors explain: \"The cohorts are established based on the amount of financial support typically required during a particular life phase (...) The 0-5 cohort (preschool age) has the fewest needs and requires the least amount of funding (...) Those in the 51+ cohort have the most needs and require the most amount of funding\". You can read in more details in the paper.\n",
        "\n",
        "## 4 Exploratory analysis\n",
        "\n",
        "\n",
        "The research question is: *are any demographics discriminated in distributions of the funds?*\n",
        "\n",
        "Following the authors:\n",
        "\"Discrimination exists in this case study if the amount of expenditures for a typical person in a group of consumers that share a common attribute (e.g., gender, ethnicity, etc.) is significantly different when compared to a typical person in another group. For example, discrimination based on gender would occur if the expenditures for a typical female are less than the amount for a typical male.\"\n",
        "\n",
        "We are going to examine the data using plots for categorical data and pivot tables (cross-tables) with means.\n",
        "\"Pivot table reports are particularly useful in narrowing down larger data sets or analyzing relationships between data points.\" Pivot tables will help you understand what is Simpson's Paradox.\n",
        "\n",
        "### Age x expenditures\n",
        "Let's see how expenditures are distributed across age groups.\n",
        "\n",
        "We are going to use a *swarm plot* which I believe works well here to notice the paradox and \"the points are adjusted (only along the categorical axis) so that they don’t overlap. This gives a better representation of the distribution of values, but it does not scale well to large numbers of observations. A swarm plot can be drawn on its own, but it is also a good complement to a box or violin plot in cases where you want to show all observations along with some representation of the underlying distribution.\" Read more [here](https://seaborn.pydata.org/generated/seaborn.swarmplot.html#seaborn.swarmplot)"
      ]
    },
    {
      "cell_type": "code",
      "execution_count": null,
      "metadata": {
        "id": "TcguMocSJ0v9"
      },
      "outputs": [],
      "source": [
        "import seaborn as sns\n",
        "import matplotlib.pyplot as plt\n",
        "\n",
        "sns.catplot(x=\"AgeCohort\", y=\"Expenditures\", kind=\"swarm\", data=df)\n",
        "#you can also do a boxplot if you change kind=\"box\""
      ]
    },
    {
      "cell_type": "markdown",
      "metadata": {
        "id": "0-C4tufuJ0v-"
      },
      "source": [
        "### Ethnicity\n",
        "Ethnicity could be another discriminating factor. Let's check this here too by plotting expenditures by ethnicity.\n",
        "\n",
        "These groups reflect the demographic profile of the State of California."
      ]
    },
    {
      "cell_type": "code",
      "execution_count": null,
      "metadata": {
        "id": "6EyTb9b-J0v-"
      },
      "outputs": [],
      "source": [
        "sns.catplot(x=\"Ethnicity\", y=\"Expenditures\", kind=\"swarm\", data=df)"
      ]
    },
    {
      "cell_type": "markdown",
      "metadata": {
        "id": "U2GWX1dkJ0v-"
      },
      "source": [
        "### Gender\n",
        "Gender could have been another discriminating factor (as gender based discrimination is also very common). It is not the case here. See below plots to confirm these. We are plotting expenditures by gender."
      ]
    },
    {
      "cell_type": "code",
      "execution_count": null,
      "metadata": {
        "id": "3ZSGweUbJ0wI"
      },
      "outputs": [],
      "source": [
        "import seaborn as sns\n",
        "import matplotlib.pyplot as plt\n",
        "\n",
        "#sns.catplot(x=\"Gender\", y=\"Expenditures\", kind=\"swarm\", data=df)\n",
        "#you can create even a nicer plot than for ethnicity, using tips here https://seaborn.pydata.org/tutorial/categorical.html\n",
        "#It's a combination of swarmplot and violin plot to show each observation along with a summary of the distribution\n",
        "\n",
        "g = sns.catplot(x=\"Gender\", y=\"Expenditures\", kind=\"violin\", inner=None, data=df)\n",
        "sns.swarmplot(x=\"Gender\", y=\"Expenditures\", color=\"k\", size=3, data=df, ax=g.ax)"
      ]
    },
    {
      "cell_type": "markdown",
      "metadata": {
        "id": "vVHv8du4J0wJ"
      },
      "source": [
        "### Mean Expenditures\n",
        "This was a quick visual analysis. Let's check means to see how it looks like by age, ethnicity and gender.\n",
        "Why would it be also good to check medians here?"
      ]
    },
    {
      "cell_type": "code",
      "execution_count": null,
      "metadata": {
        "id": "IY_Iwxy0J0wJ"
      },
      "outputs": [],
      "source": [
        "import pandas as pd\n",
        "import numpy as np\n",
        "\n",
        "#By default the aggreggate function is mean\n",
        "\n",
        "np.round(df.pivot_table(index=['Ethnicity'], values=['Expenditures']), 2)"
      ]
    },
    {
      "cell_type": "code",
      "execution_count": null,
      "metadata": {
        "id": "hMdJpOX7J0wK"
      },
      "outputs": [],
      "source": [
        "np.round(df.pivot_table(index=['Gender'], values=['Expenditures']), 2)"
      ]
    },
    {
      "cell_type": "code",
      "execution_count": null,
      "metadata": {
        "id": "ZcmlbTfjJ0wK"
      },
      "outputs": [],
      "source": [
        "np.round(df.pivot_table(index=['cat_AgeCohort'], values=['Expenditures']), 2)"
      ]
    },
    {
      "cell_type": "markdown",
      "metadata": {
        "id": "9AySZC3dJ0wK"
      },
      "source": [
        "What do these tables tell us? There is much discrepnacy in average results for ethnicity and age cohort. If we look at gender - there aren't many differences.\n",
        "\n",
        "Please remember that in this case study \"the needs for consumers increase as they become older which results in higher expenditures\". This would explain age discrepancies a bit, but what about ethnicity?"
      ]
    },
    {
      "cell_type": "markdown",
      "metadata": {
        "id": "1FOI0PQlJ0wK"
      },
      "source": [
        "# 5 In-depth Analysis - Outliers\n",
        "Let's try to go a bit more in-depth .\n",
        "We know that gender doesn't show many differences. In age there are not big differences except for one case. Let's focus on ethnicity then.\n",
        "\n",
        "*We are going to use Seaborn's 'catplot'. In the [documentation](https://seaborn.pydata.org/tutorial/categorical.html) we can read what are the error bars here: \"In seaborn, the barplot() function operates on a full dataset and applies a function to obtain the estimate (taking the mean by default). When there are multiple observations in each category, it also uses bootstrapping to compute a confidence interval around the estimate, which is plotted using error bars.\"*"
      ]
    },
    {
      "cell_type": "code",
      "execution_count": null,
      "metadata": {
        "id": "VAoHudEMJ0wL"
      },
      "outputs": [],
      "source": [
        "sns.catplot(x=\"Ethnicity\", y='Expenditures',\n",
        "            kind=\"bar\", data=df)\n",
        "\n",
        "#you can also run a nested table, but the chart might be more straightforward in analysis.\n",
        "#np.round(df.pivot_table(index=['cat_AgeCohort','Ethnicity'], values=['Expenditures']), 2)"
      ]
    },
    {
      "cell_type": "code",
      "execution_count": null,
      "metadata": {
        "id": "b8RD91B_J0wL"
      },
      "outputs": [],
      "source": [
        "np.round(df.pivot_table(index=['Ethnicity'], values=['Expenditures']), 2)"
      ]
    },
    {
      "cell_type": "markdown",
      "metadata": {
        "id": "oN4QuCyrJ0wL"
      },
      "source": [
        "So there are big differences in the averages between ethnicities. Does it mean there is discrimination?"
      ]
    },
    {
      "cell_type": "code",
      "execution_count": null,
      "metadata": {
        "id": "XDNEmYQbJ0wM"
      },
      "outputs": [],
      "source": [
        "df.groupby('Ethnicity').count()"
      ]
    },
    {
      "cell_type": "markdown",
      "metadata": {
        "id": "uDHPXdnFJ0wM"
      },
      "source": [
        "As you can see there are big sample size differences between ethnic groups.\n",
        "\n",
        "*What conclusions does it bring?*\n",
        "There are 3 major ethnicities within the dataset: White non-Hispanic (40%), Hispanic (38%), Asian (13%). The sample sizes of other ethnicites are very small.\n",
        "\n",
        "Please also remember that\n",
        "1).\n",
        "We know it is representative data of the population of residents. So based on this data we can use inferential statistics (look up Week 03 slides if you need a reminder) and estimate results for the whole population of beneficiaries of California DDS.\n",
        "\n",
        "\n",
        "2).\n",
        "Also, if you look into actual demographics of California State [here](https://en.wikipedia.org/wiki/Demographics_of_California#/media/File:Ethic_California_Organized_Pie.png)\n",
        "\n",
        "You will notce that the proportions of the state are similar to proportions of this case study. Hispanic and White non-Hispanic constitute a majority of California's population.\n",
        "\n",
        "Let's focus on the top 2 biggest groups. We can see there is a difference in the average expenditures between the White non-Hispanic and Hispanic groups."
      ]
    },
    {
      "cell_type": "code",
      "execution_count": null,
      "metadata": {
        "id": "D8c1tn3PJ0wM"
      },
      "outputs": [],
      "source": [
        "##selecting cases that are either 'Hispanic' or 'White non Hispanic'\n",
        "Hispanic = df[(df[\"Ethnicity\"] == 'Hispanic') | (df[\"Ethnicity\"] == 'White not Hispanic')]\n",
        "Hispanic"
      ]
    },
    {
      "cell_type": "code",
      "execution_count": null,
      "metadata": {
        "id": "qIERHFt0J0wN"
      },
      "outputs": [],
      "source": [
        "np.round(Hispanic.pivot_table(index=['Ethnicity', 'cat_AgeCohort'], values=['Expenditures']), 2)"
      ]
    },
    {
      "cell_type": "code",
      "execution_count": null,
      "metadata": {
        "id": "XixWNG58J0wN"
      },
      "outputs": [],
      "source": [
        "sns.catplot(x=\"cat_AgeCohort\", y='Expenditures', hue=\"Ethnicity\", kind=\"bar\", data=Hispanic)"
      ]
    },
    {
      "cell_type": "markdown",
      "metadata": {
        "id": "11kN7HsPJ0wN"
      },
      "source": [
        "Let's get back to our original question : does discrimination exist in this case?\n",
        "\n",
        "“Is the typical Hispanic consumer receiving fewer funds (i.e., expenditures) than the typical White non-Hispanic consumer? If a Hispanic consumer was to file for discrimination based upon ethnicity, s/he would more than likely be asked his/her age. Since the typical amount of expenditures for Hispanics (in all but one age cohort) is higher than the typical amount of expenditures for White non-Hispanics in the respective age cohort, the discrimination claim would be refuted\"."
      ]
    },
    {
      "cell_type": "markdown",
      "metadata": {
        "id": "fXv2Z36pJ0wO"
      },
      "source": [
        "This case study shows **Simpson's Paradox**.\n",
        "You may ask: \"Why is the overall average for all consumers significantly different indicating ethnic discrimination of Hispanics, yet in all but one age cohort (18-21) the average of expenditures for Hispanic consumers are greater than those of the White non-Hispanic population?\" Look at the table below."
      ]
    },
    {
      "cell_type": "code",
      "execution_count": null,
      "metadata": {
        "id": "-JWgi9myJ0wO"
      },
      "outputs": [],
      "source": [
        "pd.crosstab([Hispanic.cat_AgeCohort],Hispanic.Ethnicity)"
      ]
    },
    {
      "cell_type": "markdown",
      "metadata": {
        "id": "DMN8emKNJ0wO"
      },
      "source": [
        "**Results**\n",
        "\n",
        "\"There are more Hispanics in the youngest four age cohorts, while the White non-Hispanics have more consumers in the oldest two age cohorts. The two populations are close in overall counts (376 vs. 401).  On top of this, consumers expenditures increase as they age to see the paradox.\n",
        "\n",
        "Expenditure average for Hispanic consumers are higher in all but one of the age cohorts, but the trend reverses when the groups are combined resulting in a lower expenditure average for all Hispanic consumers when compared to all White non-Hispanics.\"\n",
        "\n",
        "\"The overall Hispanic consumer population is a relatively younger when compared to the White non-Hispanic consumer population. Since the expenditures for younger consumers is lower, the overall average of expenditures for Hispanics\n",
        "(vs White non-Hispanics) is less.\""
      ]
    },
    {
      "cell_type": "code",
      "execution_count": null,
      "metadata": {
        "id": "TG3siZKLJ0wP"
      },
      "outputs": [],
      "source": [
        "pd.crosstab(Hispanic.cat_AgeCohort,Hispanic.Ethnicity,\n",
        "            normalize='columns')\n",
        "\n",
        "# values=Hispanic.Ethnicity,aggfunc=sum,"
      ]
    },
    {
      "cell_type": "markdown",
      "metadata": {
        "id": "HFKfIryIJ0wP"
      },
      "source": [
        "# 6 Conclusions\n",
        "## Explanation\n",
        "\n",
        "\"This exercise is based on a real-life case in California. The situation involved an alleged case of discrimination privileging White non-Hispanics over Hispanics in the allocation of funds to over 250,000 developmentally-disabled California residents.\n",
        "\n",
        "A number of years ago, an allegation of discrimination was made and supported by a univariate analysis that examined average annual expenditures on consumers by ethnicity. The analysis revealed that the average annual expenditures on Hispanic consumers was approximately one-third (⅓) of the average expenditures on White non-Hispanic consumers. (...) A bivariate analysis examining ethnicity and age (divided into six age cohorts) revealed that ethnic discrimination did not exist. Moreover, in all but one of the age cohorts, the trend reversed where the average annual expenditures on White non-Hispanic consumers were less than the expenditures on Hispanic consumers.\"(Taylor, Mickel 2014)\n",
        "\n",
        "When running the simple table with aggregated data, the discrimination in this case appared evident. After running a few more detailed tables, it appears to be no evidence of discrimination based on this sample and the variables collected.\n",
        "\n",
        "## Takeaways\n",
        "The example above concerns a crucial topic of discrimination.\n",
        "As you can see, data and statistics alone won't give us the anwser. First results might give us a confusing result. Critical thinking is essential when working with data, in order to account for reasons not evident at the first sight. The authors remind us the following: 1) \"outcome of important decisions (such as discrimination claims) are often heavily influenced by statistics and how an incomplete analysis may lead to poor decision making\"\n",
        "2) \"importance of identifying and analyzing all sources of specific variation (i.e., potential influential factors) in statistical analyses\". This is something we already discussed in previous weeks, but it is never enough to stress it out\""
      ]
    },
    {
      "cell_type": "markdown",
      "metadata": {
        "id": "Cy48s6tuJ0wQ"
      },
      "source": [
        "### *Additional Links\n",
        "Some links regarding categorical data in Python for those interested:\n",
        "\n",
        "\n",
        "https://pandas.pydata.org/pandas-docs/stable/user_guide/categorical.html#description\n",
        "\n",
        "https://pandas.pydata.org/pandas-docs/version/0.23.1/generated/pandas.DataFrame.plot.bar.html\n",
        "\n",
        "https://seaborn.pydata.org/tutorial/categorical.html\n",
        "\n",
        "https://seaborn.pydata.org/generated/seaborn.countplot.html"
      ]
    }
  ],
  "metadata": {
    "kernelspec": {
      "display_name": "Python 3",
      "language": "python",
      "name": "python3"
    },
    "language_info": {
      "codemirror_mode": {
        "name": "ipython",
        "version": 3
      },
      "file_extension": ".py",
      "mimetype": "text/x-python",
      "name": "python",
      "nbconvert_exporter": "python",
      "pygments_lexer": "ipython3",
      "version": "3.12.4"
    },
    "colab": {
      "provenance": [],
      "include_colab_link": true
    }
  },
  "nbformat": 4,
  "nbformat_minor": 0
}