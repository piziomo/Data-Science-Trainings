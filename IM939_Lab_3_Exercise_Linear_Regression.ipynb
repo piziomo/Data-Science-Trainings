{
  "cells": [
    {
      "cell_type": "markdown",
      "metadata": {
        "id": "view-in-github",
        "colab_type": "text"
      },
      "source": [
        "<a href=\"https://colab.research.google.com/github/piziomo/Data-Science-Trainings/blob/main/IM939_Lab_3_Exercise_Linear_Regression.ipynb\" target=\"_parent\"><img src=\"https://colab.research.google.com/assets/colab-badge.svg\" alt=\"Open In Colab\"/></a>"
      ]
    },
    {
      "cell_type": "code",
      "execution_count": null,
      "metadata": {
        "id": "2j_BZuX_LFNA"
      },
      "outputs": [],
      "source": [
        "import warnings\n",
        "warnings.filterwarnings('ignore')"
      ]
    },
    {
      "cell_type": "markdown",
      "metadata": {
        "id": "CoKtvvYeLFNF"
      },
      "source": [
        "# Exercise: Regression\n",
        "\n",
        "Now it's your turn to prepare a linear regression model.\n"
      ]
    },
    {
      "cell_type": "markdown",
      "metadata": {
        "id": "bu0-2JjlLFNH"
      },
      "source": [
        "## Scikit Learn\n",
        "\n",
        "You can use here as well Scikit Learn library. More information you can find here:\n",
        "<https://www.tutorialspoint.com/scikit_learn/scikit_learn_linear_regression.htm>\n",
        "\n",
        "\n",
        "## Wine Dataset\n",
        "\n",
        "For this exercise we will be using Wine Quality Dataset from @cortezWineQuality2009. You can find more information about it here: <https://doi.org/10.24432/C56S3T>\n"
      ]
    },
    {
      "cell_type": "markdown",
      "metadata": {
        "id": "l2lW5AO5LFNI"
      },
      "source": [
        "What would be your research question? What do you like to learn, given the data you have?"
      ]
    },
    {
      "cell_type": "markdown",
      "metadata": {
        "id": "5WK9WhJ-LFNI"
      },
      "source": [
        "## Reading Data"
      ]
    },
    {
      "cell_type": "code",
      "execution_count": null,
      "metadata": {
        "id": "wVFI4uiELFNJ"
      },
      "outputs": [],
      "source": [
        "import matplotlib.pyplot as plt\n",
        "import numpy as np\n",
        "import pandas as pd\n",
        "import seaborn as sns"
      ]
    },
    {
      "cell_type": "code",
      "execution_count": null,
      "metadata": {
        "id": "9fiYVMupLFNJ"
      },
      "outputs": [],
      "source": [
        "wine = pd.read_excel('data/raw/winequality-red_v2.xlsx', engine = 'openpyxl')\n",
        "\n",
        "#You might need to use encoding, then the code will look like:\n",
        "# wine = pd.read_excel('data/raw/winequality-red_v2.xlsx', engine = 'openpyxl', encoding='UTF-8')"
      ]
    },
    {
      "cell_type": "markdown",
      "metadata": {
        "id": "0Y4bydLzLFNK"
      },
      "source": [
        "## Data exploration\n",
        "Let's check the data, their distribution and central tendencies"
      ]
    },
    {
      "cell_type": "code",
      "execution_count": null,
      "metadata": {
        "id": "WFliTKVtLFNL"
      },
      "outputs": [],
      "source": [
        "print('shape:', wine.shape)\n",
        "wine.head()"
      ]
    },
    {
      "cell_type": "markdown",
      "metadata": {
        "id": "AHU1RuWfLFNM"
      },
      "source": [
        "### Check your variables\n",
        "\n",
        "Use lmplot() function from Seaborn to explore linear relationship\n",
        "Input data must be in a Pandas DataFrame. To plot them, we provide the predictor and response variable names along with the dataset"
      ]
    },
    {
      "cell_type": "code",
      "execution_count": null,
      "metadata": {
        "id": "hXXBvzIQLFNM"
      },
      "outputs": [],
      "source": []
    },
    {
      "cell_type": "markdown",
      "metadata": {
        "id": "lxtqXSrJLFNM"
      },
      "source": [
        "Did you find outliers or missing data?\n",
        "You can use function np.unique and find the unique elements of an array."
      ]
    },
    {
      "cell_type": "code",
      "execution_count": null,
      "metadata": {
        "id": "U-u6ohn6LFNM"
      },
      "outputs": [],
      "source": [
        "?np.unique"
      ]
    },
    {
      "cell_type": "code",
      "execution_count": null,
      "metadata": {
        "id": "tBCd0exeLFNN"
      },
      "outputs": [],
      "source": []
    },
    {
      "cell_type": "markdown",
      "metadata": {
        "id": "oDPz-JB9LFNN"
      },
      "source": [
        "Do you need to remove any cases?"
      ]
    },
    {
      "cell_type": "code",
      "execution_count": null,
      "metadata": {
        "id": "Eu_JCE6xLFNN"
      },
      "outputs": [],
      "source": []
    },
    {
      "cell_type": "code",
      "execution_count": null,
      "metadata": {
        "id": "YLPhbfvWLFNN"
      },
      "outputs": [],
      "source": []
    },
    {
      "cell_type": "markdown",
      "metadata": {
        "id": "PC5AIEroLFNN"
      },
      "source": [
        "Did you need to standarize data?"
      ]
    },
    {
      "cell_type": "code",
      "execution_count": null,
      "metadata": {
        "id": "O5CZWCs5LFNN"
      },
      "outputs": [],
      "source": []
    },
    {
      "cell_type": "markdown",
      "metadata": {
        "id": "wxmx6FmJLFNN"
      },
      "source": [
        "If you standarized data, try to plot them again"
      ]
    },
    {
      "cell_type": "code",
      "execution_count": null,
      "metadata": {
        "id": "C1BosN6dLFNO"
      },
      "outputs": [],
      "source": [
        ""
      ]
    },
    {
      "cell_type": "markdown",
      "metadata": {
        "id": "9MONMGSPLFNO"
      },
      "source": [
        "## Form ideas about the data\n",
        "Before you move on to exploring correlations and maybe other kinds of models, try and build some sense of understanding of the relations between the variables. What are some relations that stand out. Do you know a bit more about the wines in this dataset or wines more generally?"
      ]
    },
    {
      "cell_type": "markdown",
      "metadata": {
        "id": "HOiZtC-bLFNO"
      },
      "source": [
        "## Move on to building some simple models\n",
        "\n",
        "You can calculates a Pearson correlation coefficient and the p-value for testing non-correlation.\n",
        "\n",
        "We will be using the scikit-learn package here. This is a package we will be making use of very frequently.\n"
      ]
    },
    {
      "cell_type": "code",
      "execution_count": null,
      "metadata": {
        "id": "KwNJSxp_LFNO"
      },
      "outputs": [],
      "source": [
        "#| error: true\n",
        "import scipy.stats\n",
        "scipy.stats.pearsonr(???wine.???.values, ???wine.???.values)"
      ]
    },
    {
      "cell_type": "markdown",
      "metadata": {
        "id": "BNKfMmZsLFNO"
      },
      "source": [
        "using **Scikit-learn**, build a simple linear regression (OLS)"
      ]
    },
    {
      "cell_type": "code",
      "execution_count": null,
      "metadata": {
        "id": "wsx0B8oGLFNO"
      },
      "outputs": [],
      "source": [
        "#| error: true\n",
        "from sklearn.linear_model import LinearRegression\n",
        "\n",
        "est = LinearRegression(fit_intercept = True)\n",
        "\n",
        "x = ???wine[['???']]\n",
        "y = ???wine[['???']]\n",
        "\n",
        "est.fit(x, y)\n",
        "\n",
        "print(\"Coefficients:\", est.coef_)\n",
        "print (\"Intercept:\", est.intercept_)"
      ]
    },
    {
      "cell_type": "markdown",
      "metadata": {
        "id": "pV-a-dlULFNO"
      },
      "source": [
        "What is the model's mean squared error ($MSE$) and the coefficient of determination ($R^2$) ?\n"
      ]
    },
    {
      "cell_type": "code",
      "execution_count": null,
      "metadata": {
        "id": "2GuXDbgGLFNP"
      },
      "outputs": [],
      "source": [
        "#| error: true\n",
        "from sklearn import metrics\n",
        "\n",
        "model = LinearRegression()\n",
        "model.fit(x, y)\n",
        "y_hat = model.predict(x)\n",
        "plt.plot(x, y,'o', alpha = 0.5)\n",
        "plt.plot(x, y_hat, 'r', alpha = 0.5)\n",
        "plt.xlabel('?')\n",
        "plt.ylabel('?')\n",
        "print (\"MSE:\", metrics.mean_squared_error(y_hat, y))\n",
        "print (\"R^2:\", metrics.r2_score(y_hat, y))\n",
        "print (\"var:\", y.var())\n",
        "plt.savefig(\"?.png\", dpi = 300, bbox_inches = 'tight')"
      ]
    },
    {
      "cell_type": "markdown",
      "metadata": {
        "id": "4OCyylhoLFNP"
      },
      "source": [
        "What's the conclusion?"
      ]
    }
  ],
  "metadata": {
    "kernelspec": {
      "display_name": "Python 3 (ipykernel)",
      "language": "python",
      "name": "python3"
    },
    "language_info": {
      "codemirror_mode": {
        "name": "ipython",
        "version": 3
      },
      "file_extension": ".py",
      "mimetype": "text/x-python",
      "name": "python",
      "nbconvert_exporter": "python",
      "pygments_lexer": "ipython3",
      "version": "3.11.6"
    },
    "colab": {
      "provenance": [],
      "include_colab_link": true
    }
  },
  "nbformat": 4,
  "nbformat_minor": 0
}