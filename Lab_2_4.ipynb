{
  "cells": [
    {
      "cell_type": "markdown",
      "metadata": {
        "id": "view-in-github",
        "colab_type": "text"
      },
      "source": [
        "<a href=\"https://colab.research.google.com/github/piziomo/Data-Science-Trainings/blob/main/Lab_2_4.ipynb\" target=\"_parent\"><img src=\"https://colab.research.google.com/assets/colab-badge.svg\" alt=\"Open In Colab\"/></a>"
      ]
    },
    {
      "cell_type": "markdown",
      "metadata": {
        "id": "5pro6G4QHGPh"
      },
      "source": [
        "---\n",
        "warning: false\n",
        "---"
      ]
    },
    {
      "cell_type": "code",
      "execution_count": null,
      "metadata": {
        "id": "ZKtOA_qWHGPk"
      },
      "outputs": [],
      "source": [
        "import warnings\n",
        "warnings.filterwarnings('ignore')"
      ]
    },
    {
      "cell_type": "markdown",
      "metadata": {
        "id": "sbvu3dQDHGPl"
      },
      "source": [
        "# Lab: Seaborn {#sec-seaborn}\n",
        "\n",
        "In the previous notebooks we created basic, yet fast, visualisations using `matplotlib`. In this one we will be using a different plotting library called [`Seaborn`](https://seaborn.pydata.org/). Some consider it the [`ggplot`](https://ggplot2.tidyverse.org/) of Python with excellent default setting which make your data life easier.\n",
        "\n",
        "\n",
        "## Preparations\n",
        "\n",
        "As usual, we need to load any package and data needed for our work."
      ]
    },
    {
      "cell_type": "code",
      "execution_count": null,
      "metadata": {
        "id": "yl-jZoBgHGPm"
      },
      "outputs": [],
      "source": [
        "import numpy as np\n",
        "import pandas as pd\n",
        "import seaborn as sns\n",
        "\n",
        "office_df = pd.read_csv('data/raw/office_ratings.csv', encoding='UTF-8')"
      ]
    },
    {
      "cell_type": "markdown",
      "metadata": {
        "id": "lxCZMjVdHGPm"
      },
      "source": [
        "And check our data:"
      ]
    },
    {
      "cell_type": "code",
      "execution_count": null,
      "metadata": {
        "id": "Po8OeihVHGPn"
      },
      "outputs": [],
      "source": [
        "office_df.head()"
      ]
    },
    {
      "cell_type": "markdown",
      "metadata": {
        "id": "_3cv46B0HGPn"
      },
      "source": [
        "We can try to replicate the same plots as in the previous notebooks.\n",
        "\n",
        "## Scatterplots\n",
        "\n",
        "This is relatively similar to what we did in @sec-dv-bibariate, but in this case we will be using seaborn's `replot()` method."
      ]
    },
    {
      "cell_type": "code",
      "execution_count": null,
      "metadata": {
        "id": "KdS4z8cbHGPo"
      },
      "outputs": [],
      "source": [
        "sns.relplot(x='total_votes', y='imdb_rating', data=office_df)"
      ]
    },
    {
      "cell_type": "markdown",
      "metadata": {
        "id": "yL6h50A9HGPo"
      },
      "source": [
        "### Dates\n",
        "\n",
        "If we want to create a scatterplot with dates, we will need to convert them to dates, too:"
      ]
    },
    {
      "cell_type": "code",
      "execution_count": null,
      "metadata": {
        "id": "u1058exiHGPo"
      },
      "outputs": [],
      "source": [
        "office_df['air_date'] =  pd.to_datetime(office_df['air_date'], errors='ignore')\n",
        "\n",
        "g = sns.relplot(x=\"air_date\", y=\"imdb_rating\", kind=\"scatter\", data=office_df)"
      ]
    },
    {
      "cell_type": "markdown",
      "metadata": {
        "id": "CA60qL0dHGPp"
      },
      "source": [
        "## Functions\n",
        "\n",
        "We can define our own functions. A function helps us with code we are going to run multiple times. For instance, the below function scales values between 0 and 1.\n",
        "\n",
        "Here is a modified function from [stackoverflow](https://stackoverflow.com/questions/26414913/normalize-columns-of-pandas-data-frame)."
      ]
    },
    {
      "cell_type": "code",
      "execution_count": null,
      "metadata": {
        "id": "1UjtJiGCHGPp"
      },
      "outputs": [],
      "source": [
        "office_df.head()"
      ]
    },
    {
      "cell_type": "code",
      "execution_count": null,
      "metadata": {
        "id": "w9a7NSIJHGPp"
      },
      "outputs": [],
      "source": [
        "def normalize(df, feature_name):\n",
        "    result = df.copy()\n",
        "\n",
        "    max_value = df[feature_name].max()\n",
        "    min_value = df[feature_name].min()\n",
        "\n",
        "    result[feature_name] = (df[feature_name] - min_value) / (max_value - min_value)\n",
        "\n",
        "    return result"
      ]
    },
    {
      "cell_type": "markdown",
      "metadata": {
        "id": "TT2VB3vWHGPq"
      },
      "source": [
        "Passing the dataframe and name of the column will return a dataframe with that column scaled between 0 and 1."
      ]
    },
    {
      "cell_type": "code",
      "execution_count": null,
      "metadata": {
        "id": "CcYG4naYHGPq"
      },
      "outputs": [],
      "source": [
        "normalize(office_df, 'imdb_rating')"
      ]
    },
    {
      "cell_type": "markdown",
      "metadata": {
        "id": "mJFVGRr1HGPq"
      },
      "source": [
        "Replacing the origonal dataframe. We can normalize both out votes and rating."
      ]
    },
    {
      "cell_type": "code",
      "execution_count": null,
      "metadata": {
        "id": "-J9xgmtqHGPq"
      },
      "outputs": [],
      "source": [
        "office_df = normalize(office_df, 'imdb_rating')"
      ]
    },
    {
      "cell_type": "code",
      "execution_count": null,
      "metadata": {
        "id": "0fMTvI4dHGPq"
      },
      "outputs": [],
      "source": [
        "office_df = normalize(office_df, 'total_votes')"
      ]
    },
    {
      "cell_type": "code",
      "execution_count": null,
      "metadata": {
        "id": "IhUM1DpMHGPr"
      },
      "outputs": [],
      "source": [
        "office_df"
      ]
    },
    {
      "cell_type": "markdown",
      "metadata": {
        "id": "4AsLMtsDHGPr"
      },
      "source": [
        "### Long format\n",
        "\n",
        "Seaborn prefers a long format table. Details of melt can be found [here](https://pandas.pydata.org/pandas-docs/stable/reference/api/pandas.melt.html)."
      ]
    },
    {
      "cell_type": "code",
      "execution_count": null,
      "metadata": {
        "id": "7YKDm2swHGPr"
      },
      "outputs": [],
      "source": [
        "office_df_long=pd.melt(office_df, id_vars=['season', 'episode', 'title', 'air_date'], value_vars=['imdb_rating', 'total_votes'])\n",
        "office_df_long"
      ]
    },
    {
      "cell_type": "markdown",
      "metadata": {
        "id": "zqKut1qNHGPr"
      },
      "source": [
        "Which we can plot in seaborn like so."
      ]
    },
    {
      "cell_type": "code",
      "execution_count": null,
      "metadata": {
        "id": "4C4XEmLNHGPr"
      },
      "outputs": [],
      "source": [
        "sns.relplot(x='air_date', y='value', size='variable', data=office_df_long)"
      ]
    },
    {
      "cell_type": "code",
      "execution_count": null,
      "metadata": {
        "id": "UdHyhg7zHGPr"
      },
      "outputs": [],
      "source": [
        "?sns.relplot"
      ]
    }
  ],
  "metadata": {
    "kernelspec": {
      "display_name": "Python 3 (ipykernel)",
      "language": "python",
      "name": "python3"
    },
    "language_info": {
      "codemirror_mode": {
        "name": "ipython",
        "version": 3
      },
      "file_extension": ".py",
      "mimetype": "text/x-python",
      "name": "python",
      "nbconvert_exporter": "python",
      "pygments_lexer": "ipython3",
      "version": "3.12.4"
    },
    "colab": {
      "provenance": [],
      "include_colab_link": true
    }
  },
  "nbformat": 4,
  "nbformat_minor": 0
}